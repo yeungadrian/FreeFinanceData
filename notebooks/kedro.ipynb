{
 "cells": [
  {
   "cell_type": "code",
   "execution_count": 9,
   "metadata": {},
   "outputs": [
    {
     "name": "stdout",
     "output_type": "stream",
     "text": [
      "2022-04-24 21:34:25,229 - kedro.framework.session.store - INFO - `read()` not implemented for `BaseSessionStore`. Assuming empty store.\n",
      "2022-04-24 21:34:26,280 - root - INFO - ** Kedro project FinancialTimeSeries\n",
      "2022-04-24 21:34:26,281 - root - INFO - Defined global variable `context`, `session`, `catalog` and `pipelines`\n"
     ]
    }
   ],
   "source": [
    "%load_ext kedro.extras.extensions.ipython"
   ]
  },
  {
   "cell_type": "code",
   "execution_count": 3,
   "metadata": {},
   "outputs": [],
   "source": [
    "from kedro.framework.startup import bootstrap_project\n",
    "from pathlib import Path"
   ]
  },
  {
   "cell_type": "code",
   "execution_count": 7,
   "metadata": {},
   "outputs": [],
   "source": [
    "project_path = Path.cwd()\n",
    "metadata = bootstrap_project('/Users/yeungadrian/Documents/repo/FinancialTimeSeries')"
   ]
  },
  {
   "cell_type": "code",
   "execution_count": 8,
   "metadata": {},
   "outputs": [
    {
     "data": {
      "text/plain": [
       "ProjectMetadata(config_file=PosixPath('/Users/yeungadrian/Documents/repo/FinancialTimeSeries/pyproject.toml'), package_name='financialtimeseries', project_name='FinancialTimeSeries', project_path=PosixPath('/Users/yeungadrian/Documents/repo/FinancialTimeSeries'), project_version='0.17.7', source_dir=PosixPath('/Users/yeungadrian/Documents/repo/FinancialTimeSeries/src'))"
      ]
     },
     "execution_count": 8,
     "metadata": {},
     "output_type": "execute_result"
    }
   ],
   "source": [
    "metadata"
   ]
  },
  {
   "cell_type": "code",
   "execution_count": 17,
   "metadata": {},
   "outputs": [
    {
     "data": {
      "text/plain": [
       "kedro.framework.project._ProjectPipelines"
      ]
     },
     "execution_count": 17,
     "metadata": {},
     "output_type": "execute_result"
    }
   ],
   "source": [
    "type(pipelines)"
   ]
  },
  {
   "cell_type": "code",
   "execution_count": 26,
   "metadata": {},
   "outputs": [
    {
     "data": {
      "text/plain": [
       "['__default__', 'data_processing']"
      ]
     },
     "execution_count": 26,
     "metadata": {},
     "output_type": "execute_result"
    }
   ],
   "source": [
    "list(pipelines.keys())"
   ]
  }
 ],
 "metadata": {
  "interpreter": {
   "hash": "42d967cff957ceca4b38e116a3388912bd6d6b34c6f8a47dafeb6d9e6b20a2bf"
  },
  "kernelspec": {
   "display_name": "Python 3.7.12 ('fin-ts')",
   "language": "python",
   "name": "python3"
  },
  "language_info": {
   "codemirror_mode": {
    "name": "ipython",
    "version": 3
   },
   "file_extension": ".py",
   "mimetype": "text/x-python",
   "name": "python",
   "nbconvert_exporter": "python",
   "pygments_lexer": "ipython3",
   "version": "3.7.12"
  },
  "orig_nbformat": 4
 },
 "nbformat": 4,
 "nbformat_minor": 2
}

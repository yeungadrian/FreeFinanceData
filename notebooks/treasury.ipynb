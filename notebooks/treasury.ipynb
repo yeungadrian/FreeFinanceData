{
 "cells": [
  {
   "cell_type": "code",
   "execution_count": 6,
   "metadata": {},
   "outputs": [],
   "source": [
    "import altair as alt\n",
    "import numpy as np\n",
    "import pandas as pd\n",
    "from scipy.interpolate import PchipInterpolator\n"
   ]
  },
  {
   "cell_type": "code",
   "execution_count": 79,
   "metadata": {},
   "outputs": [],
   "source": [
    "all_treasuries = pd.read_csv(\n",
    "    \"https://home.treasury.gov/system/files/276/yield-curve-rates-1990-2021.csv\"\n",
    ")"
   ]
  },
  {
   "cell_type": "code",
   "execution_count": 80,
   "metadata": {},
   "outputs": [],
   "source": [
    "all_treasuries.Date = pd.to_datetime(all_treasuries.Date)\n"
   ]
  },
  {
   "cell_type": "code",
   "execution_count": 109,
   "metadata": {},
   "outputs": [],
   "source": [
    "def interpolate_curve(curve):\n",
    "    curve = curve.iloc[1:]\n",
    "    curve.columns = [\"tenor\", \"value\"]\n",
    "    curve.loc[:, \"tenor\"] = [1, 2, 3, 6, 12, 24, 36, 60, 90, 120, 240, 360]\n",
    "\n",
    "    curve = curve.dropna()\n",
    "\n",
    "    g = PchipInterpolator(curve[\"tenor\"], curve[\"value\"], extrapolate=True)\n",
    "    tenors = np.linspace(0, 360, 61, endpoint=True)\n",
    "    values = g(tenors)\n",
    "\n",
    "    return tenors, values\n"
   ]
  },
  {
   "cell_type": "code",
   "execution_count": 110,
   "metadata": {},
   "outputs": [
    {
     "name": "stderr",
     "output_type": "stream",
     "text": [
      "/var/folders/8g/67y55mms29zf6yt6q92_3hsr0000gn/T/ipykernel_57920/4098965440.py:4: SettingWithCopyWarning: \n",
      "A value is trying to be set on a copy of a slice from a DataFrame.\n",
      "Try using .loc[row_indexer,col_indexer] = value instead\n",
      "\n",
      "See the caveats in the documentation: https://pandas.pydata.org/pandas-docs/stable/user_guide/indexing.html#returning-a-view-versus-a-copy\n",
      "  curve.loc[:, \"tenor\"] = [1, 2, 3, 6, 12, 24, 36, 60, 90, 120, 240, 360]\n"
     ]
    }
   ],
   "source": [
    "old_treasury = all_treasuries.iloc[100].reset_index()\n",
    "curve_date = all_treasuries.iloc[100].Date.strftime('%Y-%m-%d')\n",
    "\n",
    "\n",
    "tenors, values = interpolate_curve(old_treasury)\n",
    "\n",
    "curve_data = pd.DataFrame(\n",
    "    {\"tenor\": np.linspace(0, 360, 61, endpoint=True), \"value\": values}\n",
    ")\n",
    "\n",
    "curve_data[\"yield\"] = curve_data[\"yield\"] / 100.0\n",
    "curve_data[\"maturity\"] = curve_data[\"maturity\"] / 12\n"
   ]
  },
  {
   "cell_type": "code",
   "execution_count": 111,
   "metadata": {},
   "outputs": [
    {
     "data": {
      "text/html": [
       "\n",
       "<div id=\"altair-viz-bd616649c3984b1c9640a4826937aa86\"></div>\n",
       "<script type=\"text/javascript\">\n",
       "  var VEGA_DEBUG = (typeof VEGA_DEBUG == \"undefined\") ? {} : VEGA_DEBUG;\n",
       "  (function(spec, embedOpt){\n",
       "    let outputDiv = document.currentScript.previousElementSibling;\n",
       "    if (outputDiv.id !== \"altair-viz-bd616649c3984b1c9640a4826937aa86\") {\n",
       "      outputDiv = document.getElementById(\"altair-viz-bd616649c3984b1c9640a4826937aa86\");\n",
       "    }\n",
       "    const paths = {\n",
       "      \"vega\": \"https://cdn.jsdelivr.net/npm//vega@5?noext\",\n",
       "      \"vega-lib\": \"https://cdn.jsdelivr.net/npm//vega-lib?noext\",\n",
       "      \"vega-lite\": \"https://cdn.jsdelivr.net/npm//vega-lite@4.17.0?noext\",\n",
       "      \"vega-embed\": \"https://cdn.jsdelivr.net/npm//vega-embed@6?noext\",\n",
       "    };\n",
       "\n",
       "    function maybeLoadScript(lib, version) {\n",
       "      var key = `${lib.replace(\"-\", \"\")}_version`;\n",
       "      return (VEGA_DEBUG[key] == version) ?\n",
       "        Promise.resolve(paths[lib]) :\n",
       "        new Promise(function(resolve, reject) {\n",
       "          var s = document.createElement('script');\n",
       "          document.getElementsByTagName(\"head\")[0].appendChild(s);\n",
       "          s.async = true;\n",
       "          s.onload = () => {\n",
       "            VEGA_DEBUG[key] = version;\n",
       "            return resolve(paths[lib]);\n",
       "          };\n",
       "          s.onerror = () => reject(`Error loading script: ${paths[lib]}`);\n",
       "          s.src = paths[lib];\n",
       "        });\n",
       "    }\n",
       "\n",
       "    function showError(err) {\n",
       "      outputDiv.innerHTML = `<div class=\"error\" style=\"color:red;\">${err}</div>`;\n",
       "      throw err;\n",
       "    }\n",
       "\n",
       "    function displayChart(vegaEmbed) {\n",
       "      vegaEmbed(outputDiv, spec, embedOpt)\n",
       "        .catch(err => showError(`Javascript Error: ${err.message}<br>This usually means there's a typo in your chart specification. See the javascript console for the full traceback.`));\n",
       "    }\n",
       "\n",
       "    if(typeof define === \"function\" && define.amd) {\n",
       "      requirejs.config({paths});\n",
       "      require([\"vega-embed\"], displayChart, err => showError(`Error loading script: ${err.message}`));\n",
       "    } else {\n",
       "      maybeLoadScript(\"vega\", \"5\")\n",
       "        .then(() => maybeLoadScript(\"vega-lite\", \"4.17.0\"))\n",
       "        .then(() => maybeLoadScript(\"vega-embed\", \"6\"))\n",
       "        .catch(showError)\n",
       "        .then(() => displayChart(vegaEmbed));\n",
       "    }\n",
       "  })({\"config\": {\"view\": {\"continuousWidth\": 400, \"continuousHeight\": 300}}, \"data\": {\"name\": \"data-1ec2972d9b3ba7454c89892317baa9e4\"}, \"mark\": \"line\", \"encoding\": {\"tooltip\": [{\"field\": \"maturity\", \"type\": \"quantitative\"}, {\"field\": \"yield\", \"type\": \"quantitative\"}], \"x\": {\"field\": \"maturity\", \"type\": \"quantitative\"}, \"y\": {\"field\": \"yield\", \"type\": \"quantitative\"}}, \"$schema\": \"https://vega.github.io/schema/vega-lite/v4.17.0.json\", \"datasets\": {\"data-1ec2972d9b3ba7454c89892317baa9e4\": [{\"maturity\": 0.0, \"yield\": -0.00010779411764705892}, {\"maturity\": 0.5, \"yield\": 0.001}, {\"maturity\": 1.0, \"yield\": 0.0013}, {\"maturity\": 1.5, \"yield\": 0.00240778121587186}, {\"maturity\": 2.0, \"yield\": 0.0040999999999999995}, {\"maturity\": 2.5, \"yield\": 0.005932317898922377}, {\"maturity\": 3.0, \"yield\": 0.008}, {\"maturity\": 3.5, \"yield\": 0.01030685676675118}, {\"maturity\": 4.0, \"yield\": 0.012826038894090666}, {\"maturity\": 4.5, \"yield\": 0.015257201574384816}, {\"maturity\": 5.0, \"yield\": 0.0173}, {\"maturity\": 5.5, \"yield\": 0.018933090871934607}, {\"maturity\": 6.0, \"yield\": 0.02037707098092643}, {\"maturity\": 6.5, \"yield\": 0.021694505653950955}, {\"maturity\": 7.0, \"yield\": 0.02294796021798365}, {\"maturity\": 7.5, \"yield\": 0.0242}, {\"maturity\": 8.0, \"yield\": 0.02553284142011834}, {\"maturity\": 8.5, \"yield\": 0.02690789926035503}, {\"maturity\": 9.0, \"yield\": 0.02820653639053254}, {\"maturity\": 9.5, \"yield\": 0.02931011568047337}, {\"maturity\": 10.0, \"yield\": 0.0301}, {\"maturity\": 10.5, \"yield\": 0.03067649965268845}, {\"maturity\": 11.0, \"yield\": 0.03121992518651916}, {\"maturity\": 11.5, \"yield\": 0.03173163983792127}, {\"maturity\": 12.0, \"yield\": 0.0322130068433239}, {\"maturity\": 12.5, \"yield\": 0.03266538943915616}, {\"maturity\": 13.0, \"yield\": 0.03309015086184718}, {\"maturity\": 13.5, \"yield\": 0.03348865434782608}, {\"maturity\": 14.0, \"yield\": 0.03386226313352199}, {\"maturity\": 14.5, \"yield\": 0.03421234045536403}, {\"maturity\": 15.0, \"yield\": 0.03454024954978132}, {\"maturity\": 15.5, \"yield\": 0.03484735365320298}, {\"maturity\": 16.0, \"yield\": 0.03513501600205814}, {\"maturity\": 16.5, \"yield\": 0.03540459983277591}, {\"maturity\": 17.0, \"yield\": 0.035657468381785434}, {\"maturity\": 17.5, \"yield\": 0.03589498488551582}, {\"maturity\": 18.0, \"yield\": 0.036118512580396195}, {\"maturity\": 18.5, \"yield\": 0.03632941470285567}, {\"maturity\": 19.0, \"yield\": 0.03652905448932338}, {\"maturity\": 19.5, \"yield\": 0.036718795176228454}, {\"maturity\": 20.0, \"yield\": 0.0369}, {\"maturity\": 20.5, \"yield\": 0.037077020652173914}, {\"maturity\": 21.0, \"yield\": 0.03725277391304348}, {\"maturity\": 21.5, \"yield\": 0.03742647065217391}, {\"maturity\": 22.0, \"yield\": 0.03759732173913043}, {\"maturity\": 22.5, \"yield\": 0.03776453804347826}, {\"maturity\": 23.0, \"yield\": 0.03792733043478261}, {\"maturity\": 23.5, \"yield\": 0.03808490978260869}, {\"maturity\": 24.0, \"yield\": 0.03823648695652174}, {\"maturity\": 24.5, \"yield\": 0.03838127282608695}, {\"maturity\": 25.0, \"yield\": 0.038518478260869564}, {\"maturity\": 25.5, \"yield\": 0.03864731413043478}, {\"maturity\": 26.0, \"yield\": 0.038766991304347825}, {\"maturity\": 26.5, \"yield\": 0.038876720652173916}, {\"maturity\": 27.0, \"yield\": 0.038975713043478265}, {\"maturity\": 27.5, \"yield\": 0.039063179347826084}, {\"maturity\": 28.0, \"yield\": 0.03913833043478261}, {\"maturity\": 28.5, \"yield\": 0.039200377173913045}, {\"maturity\": 29.0, \"yield\": 0.039248530434782616}, {\"maturity\": 29.5, \"yield\": 0.03928200108695652}, {\"maturity\": 30.0, \"yield\": 0.03930000000000001}]}}, {\"mode\": \"vega-lite\"});\n",
       "</script>"
      ],
      "text/plain": [
       "alt.Chart(...)"
      ]
     },
     "execution_count": 111,
     "metadata": {},
     "output_type": "execute_result"
    }
   ],
   "source": [
    "alt.Chart(curve_data).mark_line().encode(\n",
    "    x=\"maturity\", y=\"yield\", tooltip=[\"maturity\", \"yield\"]\n",
    ")\n"
   ]
  },
  {
   "cell_type": "code",
   "execution_count": null,
   "metadata": {},
   "outputs": [],
   "source": [
    "old_treasury = all_treasuries.iloc[100].reset_index()\n",
    "curve_date = all_treasuries.iloc[100].Date.strftime('%Y-%m-%d')\n",
    "\n",
    "tenors, values = interpolate_curve(old_treasury)\n",
    "\n",
    "curve_data = pd.DataFrame(\n",
    "    {\"tenor\": np.linspace(0, 360, 61, endpoint=True), \"value\": values}\n",
    ")\n",
    "\n",
    "curve_data[\"tenor\"] = curve_data[\"tenor\"] / 12\n",
    "curve_data[\"value\"] = curve_data[\"value\"] / 100.0\n"
   ]
  },
  {
   "cell_type": "code",
   "execution_count": 113,
   "metadata": {},
   "outputs": [],
   "source": [
    "curve_values = list(\n",
    "    zip(\n",
    "        np.tile(\"us_treasury\", curve_data.shape[0]),\n",
    "        np.tile(curve_date, curve_data.shape[0]),\n",
    "        curve_data.maturity,\n",
    "        curve_data[\"yield\"],\n",
    "    )\n",
    ")\n"
   ]
  },
  {
   "cell_type": "code",
   "execution_count": null,
   "metadata": {},
   "outputs": [],
   "source": [
    "for i in curve_values:\n",
    "    query = \"\"\"\n",
    "        INSERT INTO curve\n",
    "        (curve_name, date, tenor, value)\n",
    "        VALUES (%s,%s,%s,%s)\n",
    "        \"\"\"\n",
    "    "
   ]
  }
 ],
 "metadata": {
  "kernelspec": {
   "display_name": "Python 3.8.13 ('portfolio')",
   "language": "python",
   "name": "python3"
  },
  "language_info": {
   "codemirror_mode": {
    "name": "ipython",
    "version": 3
   },
   "file_extension": ".py",
   "mimetype": "text/x-python",
   "name": "python",
   "nbconvert_exporter": "python",
   "pygments_lexer": "ipython3",
   "version": "3.8.13"
  },
  "orig_nbformat": 4,
  "vscode": {
   "interpreter": {
    "hash": "bb653595151008fdd6663423895767f1294320ddff324af138a526908b72b68c"
   }
  }
 },
 "nbformat": 4,
 "nbformat_minor": 2
}

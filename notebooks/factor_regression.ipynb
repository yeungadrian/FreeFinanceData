{
 "cells": [
  {
   "cell_type": "markdown",
   "metadata": {},
   "source": [
    "## To Do:\n",
    "- Individual stocks vs portfolio\n",
    "- Individual stock\n",
    "  - Choose factors\n",
    "  - Choose frequency\n",
    "  - Choose timescale\n",
    "- Portfolio"
   ]
  },
  {
   "cell_type": "markdown",
   "metadata": {},
   "source": [
    "## Libraries"
   ]
  },
  {
   "cell_type": "code",
   "execution_count": null,
   "metadata": {},
   "outputs": [],
   "source": [
    "import numpy as np\n",
    "import pandas as pd\n",
    "from pydantic import BaseModel\n",
    "import statsmodels.formula.api as smf\n",
    "from typing import List, TypeVar, Optional, Dict"
   ]
  },
  {
   "cell_type": "code",
   "execution_count": null,
   "metadata": {},
   "outputs": [],
   "source": [
    "PandasDataFrame = TypeVar(\"pandas.core.frame.DataFrame\")"
   ]
  },
  {
   "cell_type": "markdown",
   "metadata": {},
   "source": [
    "## Data"
   ]
  },
  {
   "cell_type": "code",
   "execution_count": null,
   "metadata": {},
   "outputs": [],
   "source": [
    "price_df = pd.read_parquet('../data/raw/fund_prices.parquet')\n",
    "price_df"
   ]
  },
  {
   "cell_type": "code",
   "execution_count": null,
   "metadata": {},
   "outputs": [],
   "source": [
    "ff_factors = pd.read_parquet('../data/raw/ff_5_factor.parquet')\n",
    "ff_factors"
   ]
  },
  {
   "cell_type": "code",
   "execution_count": null,
   "metadata": {},
   "outputs": [],
   "source": [
    "pd.to_datetime(ff_factors.date,format='%Y-%m-%d')"
   ]
  },
  {
   "cell_type": "markdown",
   "metadata": {},
   "source": [
    "## Factor Regression"
   ]
  },
  {
   "cell_type": "code",
   "execution_count": null,
   "metadata": {},
   "outputs": [],
   "source": [
    "class Portfolio(BaseModel):\n",
    "    fund_codes: List[str]\n",
    "    start_date: str\n",
    "    end_date: str\n",
    "    price_df: PandasDataFrame\n",
    "    french_fama_df: PandasDataFrame\n",
    "\n",
    "    def prepare_data(self):\n",
    "        self.price_df[\"date\"] = pd.to_datetime(self.price_df[\"date\"])\n",
    "        self.price_df = self.price_df.sort_values(by=\"date\").reset_index(drop=True)\n",
    "        self.price_df = self.price_df.loc[\n",
    "            (self.price_df.date >= self.start_date) & (self.price_df.date <= self.end_date)\n",
    "        ].reset_index(drop=True)\n",
    "        self.french_fama_df.date = pd.to_datetime(ff_factors.date,format='%Y-%m-%d')\n",
    "        self.french_fama_df = self.french_fama_df.rename(columns={'MktRF':'Mkt'})\n",
    "\n",
    "    def calculate_returns(self):\n",
    "\n",
    "        columns = ['date'] + self.fund_codes\n",
    "        subset_data = self.price_df[columns]\n",
    "        for i in self.fund_codes:\n",
    "            subset_data[i] = (subset_data[i] / subset_data[i].shift()) - 1\n",
    "\n",
    "        subset_data = subset_data.dropna()\n",
    "\n",
    "\n",
    "        return subset_data\n",
    "\n",
    "    def get_summary_results(self,results, fund_code):\n",
    "        \"\"\"take the result of an statsmodel results table and transforms it into a dataframe\n",
    "        https://www.statsmodels.org/stable/generated/statsmodels.regression.linear_model.RegressionResults.html\"\"\"\n",
    "        pvals = results.pvalues\n",
    "        coefficient = results.params\n",
    "        conf_lower = results.conf_int()[0]\n",
    "        conf_higher = results.conf_int()[1]\n",
    "        standard_errors = results.bse\n",
    "        residuals = results.resid\n",
    "        num_obs = results.nobs\n",
    "        rsquared = results.rsquared\n",
    "        rsquard_adj = results.rsquared_adj\n",
    "        fvalue = results.fvalue\n",
    "\n",
    "        output_result = {\n",
    "            \"fundCode\": fund_code,\n",
    "            \"numberObservations\": num_obs,\n",
    "            \"rSquared\": rsquared,\n",
    "            \"rSquaredAdjusted\": rsquard_adj,\n",
    "            \"fValue\": fvalue,\n",
    "            \"coefficient\": coefficient,\n",
    "            \"standardErrors\": standard_errors,\n",
    "            \"pValues\": pvals,\n",
    "            \"confidenceIntervalLower\": conf_lower,\n",
    "            \"confidenceIntervalHigher\": conf_higher,\n",
    "            \"residuals\": residuals,\n",
    "        }\n",
    "\n",
    "        return output_result\n",
    "\n",
    "    def calculate_factor_regression(\n",
    "        self,\n",
    "        fund_code,\n",
    "        regression_factors,\n",
    "        frenchfama_Factors,\n",
    "        historical_returns\n",
    "    ):\n",
    "\n",
    "        np.random.seed(1000)\n",
    "\n",
    "        regression_equation = \" + \".join(regression_factors)\n",
    "\n",
    "        historical_returns = historical_returns.set_index(\"date\")\n",
    "        historical_returns.index.name = None\n",
    "\n",
    "        frenchfama_Factors = frenchfama_Factors.set_index(\"date\")\n",
    "        frenchfama_Factors.index.name = None\n",
    "\n",
    "        regression_data = pd.concat(\n",
    "            [historical_returns, frenchfama_Factors], axis=1, join=\"inner\"\n",
    "        )\n",
    "\n",
    "        regression_data[fund_code] = regression_data[fund_code] - regression_data[\"RF\"]\n",
    "\n",
    "        model = smf.ols(\n",
    "            formula=f\"{fund_code} ~ {regression_equation}\", data=regression_data\n",
    "        )\n",
    "\n",
    "        results = model.fit()\n",
    "\n",
    "        output = self.get_summary_results(results, fund_code)\n",
    "\n",
    "        return output\n",
    "\n",
    "    def regress_funds(self):\n",
    "        fund_returns = self.calculate_returns()\n",
    "        output = []\n",
    "\n",
    "        for i in self.fund_codes:\n",
    "            output.append(self.calculate_factor_regression(\n",
    "                i,\n",
    "                ['Mkt','SMB','HML','RMW'],\n",
    "                self.french_fama_df,\n",
    "                fund_returns\n",
    "            ))\n",
    "        return output\n",
    "\n"
   ]
  },
  {
   "cell_type": "code",
   "execution_count": null,
   "metadata": {},
   "outputs": [],
   "source": [
    "external_data = {\n",
    "    \"fund_codes\": [\"EBAY\", \"AAPL\"],\n",
    "    \"start_date\": \"2010-12-27\",\n",
    "    \"end_date\": \"2019-12-31\",\n",
    "    \"price_df\": price_df,\n",
    "    \"french_fama_df\": ff_factors\n",
    "\n",
    "}"
   ]
  },
  {
   "cell_type": "code",
   "execution_count": null,
   "metadata": {},
   "outputs": [],
   "source": [
    "mock_portfolio = Portfolio(**external_data)"
   ]
  },
  {
   "cell_type": "code",
   "execution_count": null,
   "metadata": {},
   "outputs": [],
   "source": [
    "mock_portfolio.prepare_data()\n",
    "mock_portfolio.regress_funds()"
   ]
  },
  {
   "cell_type": "code",
   "execution_count": null,
   "metadata": {},
   "outputs": [],
   "source": []
  }
 ],
 "metadata": {
  "kernelspec": {
   "display_name": "Python 3.9.13 ('timeseries')",
   "language": "python",
   "name": "python3"
  },
  "language_info": {
   "codemirror_mode": {
    "name": "ipython",
    "version": 3
   },
   "file_extension": ".py",
   "mimetype": "text/x-python",
   "name": "python",
   "nbconvert_exporter": "python",
   "pygments_lexer": "ipython3",
   "version": "3.9.13"
  },
  "vscode": {
   "interpreter": {
    "hash": "bd47a565dcc71ae38f0fe549a83394094a4f5b32df41856b850c50c8bf952790"
   }
  }
 },
 "nbformat": 4,
 "nbformat_minor": 2
}
